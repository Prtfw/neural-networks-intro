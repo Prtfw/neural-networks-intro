{
 "cells": [
  {
   "cell_type": "markdown",
   "metadata": {},
   "source": [
    "# Shallow Neural Network using `numpy`, Piece by Piece\n",
    "\n",
    "This network is exactly the same as the one in [notebook 4c](https://github.com/sallamander/neural-networks-intro/blob/master/mini-books/shallow-neural-networks/04-shallow-neural-network/4c_nonlinear_nn_np.ipynb), except that each weight and bias has recieved its own variable, as opposed to being throw in a vector with the other weights and biases within the same layer. "
   ]
  },
  {
   "cell_type": "code",
   "execution_count": 1,
   "metadata": {
    "collapsed": true
   },
   "outputs": [],
   "source": [
    "def learn_w_gradient_descent(xs, ys, hlayer_size=2):\n",
    "    learning_rate = 0.001\n",
    "    \n",
    "    #####################################################################\n",
    "    ##### Step 1 - Initialize weights and biases with random values #####  \n",
    "    #####################################################################\n",
    "    \n",
    "    ##### Weights/Biases connecting Layer 1 to Layer 2 #####\n",
    "    w2_11 = 2 * np.random.random() - 1\n",
    "    w2_12 = 2 * np.random.random() - 1\n",
    "    b2_1, b2_2 = 0, 0\n",
    "    \n",
    "    ##### Weights/Biases connecting Layer 2 to Layer 3 #####\n",
    "    w3_11 = 2 * np.random.random() - 1\n",
    "    w3_21 = 2 * np.random.random() - 1\n",
    "    b3_1 = 0\n",
    "\n",
    "    for _ in range(50000):\n",
    "        \n",
    "        #####################################################\n",
    "        ##### Step 2A - calculate our predicted values. #####\n",
    "        #####################################################\n",
    "        \n",
    "        ##### Layer 2 calculations ##### \n",
    "        z2_1 = w2_11 * xs + b2_1 # weighted sum of the inputs to Node 1 in Layer 2\n",
    "        z2_2 = w2_12 * xs + b2_2 # weighted sum of the inputs to Node 2 in Layer 2\n",
    "        a2_1 = sigmoid(z2_1) # activation of Node 1 in Layer 2\n",
    "        a2_2 = sigmoid(z2_2) # activation of Node 2 in Layer 2\n",
    "        \n",
    "        # z_3_1 = w3_11 * a2_1 + w3_21 * a2_2 + b3_1\n",
    "        \n",
    "        ##### Layer 3 (output layer) calculations ##### \n",
    "        yhats = w3_11 * a2_1 + w3_21 * a2_2 + b3_1\n",
    "        \n",
    "        ###########################################\n",
    "        ##### Step 2B - calculate our errors. #####\n",
    "        ###########################################\n",
    "        diffs = ys - yhats \n",
    "        es = 0.5 * (diffs ** 2) # not currently used\n",
    "        \n",
    "        ######################################################################\n",
    "        ##### Step 2C - calculate the gradient of the error with respect #####\n",
    "        ##### to the weights/biases, and use it to update the coefficients. ##\n",
    "        ######################################################################\n",
    "        \n",
    "        ##### Gradient/derivative calculations #####\n",
    "        db3_1 = -diffs\n",
    "        dw3_11 = -diffs * a2_1\n",
    "        dw3_21 = -diffs * a2_2\n",
    "        db2_1 = -diffs * w3_11 * a2_1 * (1 - a2_1)\n",
    "        dw2_11 = -diffs * w3_11 * a2_1 * (1 - a2_1) * xs\n",
    "        db2_2 = -diffs * w3_21 * a2_2 * (1 - a2_2)\n",
    "        dw2_12 = -diffs * w3_21 * a2_2 * (1 - a2_2) * xs\n",
    "        \n",
    "        ##### Updates #####                \n",
    "        b3_1 -= learning_rate * db3_1.mean()\n",
    "        w3_11 -= learning_rate * dw3_11.mean()\n",
    "        w3_21 -= learning_rate * dw3_21.mean()\n",
    "        b2_1 -= learning_rate * db2_2.mean()\n",
    "        w2_11 -= learning_rate * dw2_11.mean()\n",
    "        b2_2 -= learning_rate * db2_2.mean()\n",
    "        w2_12 -= learning_rate * dw2_12.mean()\n",
    "\n",
    "    # This will hold our predictions from the final iteration\n",
    "    return yhats"
   ]
  }
 ],
 "metadata": {
  "anaconda-cloud": {},
  "kernelspec": {
   "display_name": "Python [Root]",
   "language": "python",
   "name": "Python [Root]"
  },
  "language_info": {
   "codemirror_mode": {
    "name": "ipython",
    "version": 3
   },
   "file_extension": ".py",
   "mimetype": "text/x-python",
   "name": "python",
   "nbconvert_exporter": "python",
   "pygments_lexer": "ipython3",
   "version": "3.5.2"
  }
 },
 "nbformat": 4,
 "nbformat_minor": 0
}
