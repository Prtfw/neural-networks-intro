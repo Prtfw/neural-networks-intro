{
 "cells": [
  {
   "cell_type": "markdown",
   "metadata": {},
   "source": [
    "# Logistic Regression Using Gradient Descent\n",
    "\n",
    "In the previous notebook, we looked at a high level overview of using gradient descent to solve for the beta coefficients in logistic regression. Now, we'll formalize the gradient descent procedure a little bit more, walk through the calculation of the needed derivatives, and code it all up using `numpy`. \n",
    "\n",
    "## Gradient Descent for Logistic Regression \n",
    "\n",
    "Before diving into gradient descent, we'll introduce one new piece of notation (this will help with the derivative calculations below) - we're going to denote the weighted sum of the inputs (<img src=\"https://github.com/sallamander/neural-networks-intro/blob/master/mini-books/shallow-neural-networks/imgs/variables/x_beta.png?raw=true\" style=\"vertical-align: text-middle; display: inline-block; padding-top:0; margin-top:0;\" width=30 \\>) as <img src=\"https://github.com/sallamander/neural-networks-intro/blob/master/mini-books/shallow-neural-networks/imgs/variables/z.png?raw=true\" style=\"vertical-align: text-middle; display: inline-block; padding-top:0; margin-top:0;\" width=17 \\>. This is common notation for the **weighted sum of the inputs to a node**, and it will come into play with the derivative calculations in step 2C below. \n",
    "\n",
    "### Gradient Descent Procedure \n",
    "\n",
    "With gradient descent, we'll do the following: \n",
    "\n",
    "1. Randomly initialize values for our coefficients: \n",
    "<img src=\"https://github.com/sallamander/neural-networks-intro/blob/master/mini-books/shallow-neural-networks/imgs/variables/beta0.png?raw=true\" style=\"vertical-align: text-middle; display: inline-block; padding-top:0; margin-top:0;\" width=20 \\>, \n",
    "<img src=\"https://github.com/sallamander/neural-networks-intro/blob/master/mini-books/shallow-neural-networks/imgs/variables/beta1.png?raw=true\" style=\"vertical-align: text-middle; display: inline-block; padding-top:0; margin-top:0;\" width=22 \\> , \n",
    "<img src=\"https://github.com/sallamander/neural-networks-intro/blob/master/mini-books/shallow-neural-networks/imgs/variables/beta2.png?raw=true\" style=\"vertical-align: text-middle; display: inline-block; padding-top:0; margin-top:0;\" width=19 \\> , and\n",
    "<img src=\"https://github.com/sallamander/neural-networks-intro/blob/master/mini-books/shallow-neural-networks/imgs/variables/beta3.png?raw=true\" style=\"vertical-align: text-middle; display: inline-block; padding-top:0; margin-top:0;\" width=18 \\>. \n",
    "\n",
    "2. While we haven't met some stopping condition:   \n",
    " A. Calculate our predicted values, \n",
    "<img src=\"https://github.com/sallamander/neural-networks-intro/blob/master/mini-books/shallow-neural-networks/imgs/variables/yhat.png?raw=true\" style=\"vertical-align: text-middle; display: inline-block; padding-top:0; margin-top:0;\" width=13 \\>.  \n",
    " B. Calculate the error for each observation using the true values\n",
    "<img src=\"https://github.com/sallamander/neural-networks-intro/blob/master/mini-books/shallow-neural-networks/imgs/variables/yi.png?raw=true\" style=\"vertical-align: text-middle; display: inline-block; padding-top:0; margin-top:0;\" width=17 \\>, \n",
    "our predicted values \n",
    "<img src=\"https://github.com/sallamander/neural-networks-intro/blob/master/mini-books/shallow-neural-networks/imgs/variables/yhati.png?raw=true\" style=\"vertical-align: text-middle; display: inline-block; padding-top:0; margin-top:0;\" width=16 \\>, \n",
    "and our error formula: \n",
    "<img src=\"https://github.com/sallamander/neural-networks-intro/blob/master/mini-books/shallow-neural-networks/imgs/equations/ind_bin_crossentropy.png?raw=true\" width=350 \\>    \n",
    " C. For each observation, calculate the gradient of the error with respect to each one of our coefficients (\n",
    "<img src=\"https://github.com/sallamander/neural-networks-intro/blob/master/mini-books/shallow-neural-networks/imgs/derivatives/ei_beta0.png?raw=true\" style=\"vertical-align: text-middle; display: inline-block; padding-top:0; margin-top:0;\" width=30\\>, \n",
    "<img src=\"https://github.com/sallamander/neural-networks-intro/blob/master/mini-books/shallow-neural-networks/imgs/derivatives/ei_beta1.png?raw=true\" style=\"vertical-align: text-middle; display: inline-block; padding-top:0; margin-top:0;\" width=30\\>, \n",
    "<img src=\"https://github.com/sallamander/neural-networks-intro/blob/master/mini-books/shallow-neural-networks/imgs/derivatives/ei_beta2.png?raw=true\" style=\"vertical-align: text-middle; display: inline-block; padding-top:0; margin-top:0;\" width=30\\>, \n",
    "<img src=\"https://github.com/sallamander/neural-networks-intro/blob/master/mini-books/shallow-neural-networks/imgs/derivatives/ei_beta3.png?raw=true\" style=\"vertical-align: text-middle; display: inline-block; padding-top:0; margin-top:0;\" width=30\\>\n",
    "), and then use the average across observations to update the coefficients (\n",
    "<img src=\"https://github.com/sallamander/neural-networks-intro/blob/master/mini-books/shallow-neural-networks/imgs/variables/alpha.png?raw=true\" style=\"vertical-align: text-middle; display: inline-block; padding-top:0; margin-top:0;\" width=15\\>\n",
    " is the learning rate): \n",
    "<img src=\"https://github.com/sallamander/neural-networks-intro/blob/master/mini-books/shallow-neural-networks/imgs/updates/beta0_simp_linear_update.png?raw=true\" width=150 \\>\n",
    "<img src=\"https://github.com/sallamander/neural-networks-intro/blob/master/mini-books/shallow-neural-networks/imgs/updates/beta1_simp_linear_update.png?raw=true\" width=150 \\>\n",
    "<img src=\"https://github.com/sallamander/neural-networks-intro/blob/master/mini-books/shallow-neural-networks/imgs/updates/beta2_simp_linear_update.png?raw=true\" width=150 \\>\n",
    "<img src=\"https://github.com/sallamander/neural-networks-intro/blob/master/mini-books/shallow-neural-networks/imgs/updates/beta3_simp_linear_update.png?raw=true\" width=150 \\>\n",
    "\n",
    "### Derivative Calculations\n",
    "\n",
    "Before calculating any derivatives, recall that our predicted values, \n",
    "<img src=\"https://github.com/sallamander/neural-networks-intro/blob/master/mini-books/shallow-neural-networks/imgs/variables/yhat.png?raw=true\" style=\"vertical-align: text-middle; display: inline-block; padding-top:0; margin-top:0;\" width=13 \\>\n",
    ", are given by our logistic regression equation: \n",
    "<img src=\"https://github.com/sallamander/neural-networks-intro/blob/master/mini-books/shallow-neural-networks/imgs/equations/logistic_activation2.png?raw=true\" align=\"center\" width=\"200\"\\> \n",
    "Recall also that we are now replacing \n",
    "<img src=\"https://github.com/sallamander/neural-networks-intro/blob/master/mini-books/shallow-neural-networks/imgs/variables/x_beta.png?raw=true\" style=\"vertical-align: text-middle; display: inline-block; padding-top:0; margin-top:0;\" width=30 \\> \n",
    "with \n",
    "<img src=\"https://github.com/sallamander/neural-networks-intro/blob/master/mini-books/shallow-neural-networks/imgs/variables/z.png?raw=true\" style=\"vertical-align: text-middle; display: inline-block; padding-top:0; margin-top:0;\" width=17 \\>, which means we can denote our logistic regression equation via: \n",
    "\n",
    "<img src=\"https://github.com/sallamander/neural-networks-intro/blob/master/mini-books/shallow-neural-networks/imgs/equations/logistic_activation3.png?raw=true\" align=\"center\" width=\"175\"\\>\n",
    "\n",
    "To calculate the derivatives for an individual observation, we'll use the chain rule that we looked at last notebook, but we'll also have to factor in the non-linear activation function we're now applying (e.g. the sigmoid activation). To denote this, we'll break apart the derivatives of the output with respect to the coefficients (<img src=\"https://github.com/sallamander/neural-networks-intro/blob/master/mini-books/shallow-neural-networks/imgs/derivatives/yhati_beta0.png?raw=true\" style=\"vertical-align: text-middle; display: inline-block; padding-top:0; margin-top:0\" width=30\\>, \n",
    "<img src=\"https://github.com/sallamander/neural-networks-intro/blob/master/mini-books/shallow-neural-networks/imgs/derivatives/yhati_beta1.png?raw=true\" style=\"vertical-align: text-middle; display: inline-block; padding-top:0; margin-top:0\" width=30\\>\n",
    "<img src=\"https://github.com/sallamander/neural-networks-intro/blob/master/mini-books/shallow-neural-networks/imgs/derivatives/yhati_beta2.png?raw=true\" style=\"vertical-align: text-middle; display: inline-block; padding-top:0; margin-top:0\" width=30\\>, \n",
    "<img src=\"https://github.com/sallamander/neural-networks-intro/blob/master/mini-books/shallow-neural-networks/imgs/derivatives/yhati_beta3.png?raw=true\" style=\"vertical-align: text-middle; display: inline-block; padding-top:0; margin-top:0\" width=35\\>), and denote \n",
    "<img src=\"https://github.com/sallamander/neural-networks-intro/blob/master/mini-books/shallow-neural-networks/imgs/variables/yhati.png?raw=true\" style=\"vertical-align: text-middle; display: inline-block; padding-top:0; margin-top:0;\" width=16 \\>\n",
    "as <img src=\"https://github.com/sallamander/neural-networks-intro/blob/master/mini-books/shallow-neural-networks/imgs/variables/sigma_zi.png?raw=true\" style=\"vertical-align: text-middle; display: inline-block; padding-top:0; margin-top:0;\" width=45 \\>:\n",
    "\n",
    "<img src=\"https://github.com/sallamander/neural-networks-intro/blob/master/mini-books/shallow-neural-networks/imgs/derivatives/ei_beta0_chain_logistic.png?raw=true\" width=300\\>\n",
    "<img src=\"https://github.com/sallamander/neural-networks-intro/blob/master/mini-books/shallow-neural-networks/imgs/derivatives/ei_beta1_chain_logistic.png?raw=true\" width=300\\>\n",
    "<img src=\"https://github.com/sallamander/neural-networks-intro/blob/master/mini-books/shallow-neural-networks/imgs/derivatives/ei_beta2_chain_logistic.png?raw=true\" width=300\\>\n",
    "<img src=\"https://github.com/sallamander/neural-networks-intro/blob/master/mini-books/shallow-neural-networks/imgs/derivatives/ei_beta3_chain_logistic.png?raw=true\" width=300\\>\n",
    "\n",
    "The first two pieces of each of the above chain rules are what we looked at last notebook, whereas the third (rightmost) piece is where we've broken apart the derivatives of the output with respect to the coefficients. For each of these rightmost pieces, we can break them down even farther into each of the individual pieces - \n",
    "<img src=\"https://github.com/sallamander/neural-networks-intro/blob/master/mini-books/shallow-neural-networks/imgs/derivatives/ei_sigma_zi.png?raw=true\" style=\"vertical-align: text-middle; display: inline-block; padding-top:0; margin-top:0\" width=60\\>, \n",
    "<img src=\"https://github.com/sallamander/neural-networks-intro/blob/master/mini-books/shallow-neural-networks/imgs/derivatives/sigma_zi_zi.png?raw=true\" style=\"vertical-align: text-middle; display: inline-block; padding-top:0; margin-top:0\" width=50\\>, \n",
    "<img src=\"https://github.com/sallamander/neural-networks-intro/blob/master/mini-books/shallow-neural-networks/imgs/derivatives/zi_beta0.png?raw=true\" style=\"vertical-align: text-middle; display: inline-block; padding-top:0; margin-top:0\" width=30\\>, \n",
    "<img src=\"https://github.com/sallamander/neural-networks-intro/blob/master/mini-books/shallow-neural-networks/imgs/derivatives/zi_beta1.png?raw=true\" style=\"vertical-align: text-middle; display: inline-block; padding-top:0; margin-top:0\" width=30\\>, \n",
    "<img src=\"https://github.com/sallamander/neural-networks-intro/blob/master/mini-books/shallow-neural-networks/imgs/derivatives/zi_beta2.png?raw=true\" style=\"vertical-align: text-middle; display: inline-block; padding-top:0; margin-top:0\" width=32\\>, \n",
    "<img src=\"https://github.com/sallamander/neural-networks-intro/blob/master/mini-books/shallow-neural-networks/imgs/derivatives/zi_beta3.png?raw=true\" style=\"vertical-align: text-middle; display: inline-block; padding-top:0; margin-top:0\" width=32\\>. We can calculate those as follows: \n",
    "\n",
    "<img src=\"https://github.com/sallamander/neural-networks-intro/blob/master/mini-books/shallow-neural-networks/imgs/derivatives/ei_sigma_zi_soln.png?raw=true\" width=350\\> \n",
    "<img src=\"https://github.com/sallamander/neural-networks-intro/blob/master/mini-books/shallow-neural-networks/imgs/derivatives/sigma_zi_zi_soln.png?raw=true\" width=250\\> \n",
    "<img src=\"https://github.com/sallamander/neural-networks-intro/blob/master/mini-books/shallow-neural-networks/imgs/derivatives/zi_beta0_soln.png?raw=true\" width=80\\>\n",
    "<img src=\"https://github.com/sallamander/neural-networks-intro/blob/master/mini-books/shallow-neural-networks/imgs/derivatives/zi_beta1_soln.png?raw=true\" width=100\\>\n",
    "<img src=\"https://github.com/sallamander/neural-networks-intro/blob/master/mini-books/shallow-neural-networks/imgs/derivatives/zi_beta2_soln.png?raw=true\" width=100\\> \n",
    "<img src=\"https://github.com/sallamander/neural-networks-intro/blob/master/mini-books/shallow-neural-networks/imgs/derivatives/zi_beta3_soln.png?raw=true\" width=100\\>\n",
    "\n",
    "If we plug these back into the original equations, we can obtain our full updates for step 2C: \n",
    "\n",
    "<img src=\"https://github.com/sallamander/neural-networks-intro/blob/master/mini-books/shallow-neural-networks/imgs/derivatives/ei_beta0_chain_logistic_soln.png?raw=true\" width=350\\>\n",
    "<img src=\"https://github.com/sallamander/neural-networks-intro/blob/master/mini-books/shallow-neural-networks/imgs/derivatives/ei_beta1_chain_logistic_soln.png?raw=true\" width=350\\>\n",
    "<img src=\"https://github.com/sallamander/neural-networks-intro/blob/master/mini-books/shallow-neural-networks/imgs/derivatives/ei_beta2_chain_logistic_soln.png?raw=true\" width=350\\>\n",
    "<img src=\"https://github.com/sallamander/neural-networks-intro/blob/master/mini-books/shallow-neural-networks/imgs/derivatives/ei_beta3_chain_logistic_soln.png?raw=true\" width=350\\>\n",
    "\n",
    "Note that in the final step of each of the update steps, we have switched from <img src=\"https://github.com/sallamander/neural-networks-intro/blob/master/mini-books/shallow-neural-networks/imgs/variables/sigma_zi.png?raw=true\" style=\"vertical-align: text-middle; display: inline-block; padding-top:0; margin-top:0;\" width=45 \\> \n",
    "back to \n",
    "<img src=\"https://github.com/sallamander/neural-networks-intro/blob/master/mini-books/shallow-neural-networks/imgs/variables/yhati.png?raw=true\" style=\"vertical-align: text-middle; display: inline-block; padding-top:0; margin-top:0;\" width=16 \\>. This was so that we could see that these are the exact same update steps that we used in solving multiple linear regression with gradient descent! It turns out that when we use a **sigmoid activation function** in combination with **binary crossentropy loss**, we obtain the same update steps as when we use an **identity activation** in combination with **squared error loss**. This means that when we code this up with `numpy` below, the only difference from our `numpy` implementation for multiple linear regression will be the forward pass where we calculate our predicted values. The backward pass will look exactly the same! \n",
    "\n",
    "## Logistic Regression using Gradient Descent with `numpy`\n",
    "\n",
    "To demonstrate using gradient descent to solve logistic regression, we'll use the `gen_multiple_logistic` function from the `datasets/general.py` script to generate some toy data that follows a multivariate logistic relationship with three variables. We'll input a `1d numpy array` of betas as well as a number of observations, and it will output data that follows a multivariate logistic relationship (\n",
    "<img src=\"https://github.com/sallamander/neural-networks-intro/blob/master/mini-books/shallow-neural-networks/imgs/equations/logistic.png?raw=true\" width=120 style=\"vertical-align: text-middle; display: inline-block; padding-top:0; margin-top:0;\" \\> ). We'll then binarize this data by labeling all those observations greater than 0.5 with a `1`, and all those less than or equal to 0.5 with a `0`."
   ]
  },
  {
   "cell_type": "code",
   "execution_count": 1,
   "metadata": {
    "collapsed": false
   },
   "outputs": [],
   "source": [
    "import numpy as np\n",
    "from datasets.general import gen_multiple_logistic\n",
    "from utils.plotting import plot_errors\n",
    "%matplotlib inline"
   ]
  },
  {
   "cell_type": "code",
   "execution_count": 2,
   "metadata": {
    "collapsed": true
   },
   "outputs": [],
   "source": [
    "def learn_w_gradient_descent(xs, ys): \n",
    "    learning_rate = 0.1\n",
    "    # Step 1 - randomly initialize values for our coefficients.  \n",
    "    betas_array = np.random.random(size=4)\n",
    "        \n",
    "    binary_crossentropy_lst  = []\n",
    "    for _ in range(50000): \n",
    "        # Step 2A - calculate our predicted values. \n",
    "        yhats = 1 / (1 + np.exp(-xs.dot(betas_array)))\n",
    "        yhats = yhats.reshape(-1, 1) # Force `yhats` to have a second \n",
    "                                     # dimension for later calculations.\n",
    "        \n",
    "        # Step 2B - calculate our errors. \n",
    "        diffs = (ys - yhats)\n",
    "        es = -(ys * np.log(yhats) + (1 - ys) * np.log(1 - yhats))\n",
    "        binary_crossentropy_lst.append(es.mean())\n",
    "        \n",
    "        # Step 2C - calculate the gradient of the error with respect to the coefficients, \n",
    "        # and use it to update the coefficients. \n",
    "        d_betas_array = -diffs * xs\n",
    "        betas_array -= learning_rate * d_betas_array.mean(axis=0)\n",
    "        \n",
    "    return binary_crossentropy_lst"
   ]
  },
  {
   "cell_type": "code",
   "execution_count": 3,
   "metadata": {
    "collapsed": false
   },
   "outputs": [
    {
     "name": "stdout",
     "output_type": "stream",
     "text": [
      "Final Error: 0.000200005445155866\n"
     ]
    },
    {
     "data": {
      "image/png": "[encoded data removed]",
      "text/plain": [
       "<matplotlib.figure.Figure at 0x10a781240>"
      ]
     },
     "metadata": {},
     "output_type": "display_data"
    }
   ],
   "source": [
    "# Randomly generate our betas and number of observations, used to generate \n",
    "# fake data to fit. We should have a minimum of 4 obs., since we have \n",
    "# 4 coefficients. \n",
    "true_betas_array = np.random.randint(2, 10, size=4)\n",
    "n_obs = np.random.randint(9500, 10500) \n",
    "\n",
    "# Generate the data that follows a logistic relationship specified \n",
    "# by true_betas_array.\n",
    "xs, ys = gen_multiple_logistic(true_betas_array, n_obs)\n",
    "ys = ys > 0.5\n",
    "\n",
    "# Learn the coefficients using gradient descent. \n",
    "binary_crossentropy_errors = learn_w_gradient_descent(xs, ys)\n",
    "# Skip the first 100 values because it pulls the y-axis up quite a bit. \n",
    "plot_errors(binary_crossentropy_errors, iterations=(100, 50000))\n",
    "print(\"Final Error: {}\".format(binary_crossentropy_errors[-1]))"
   ]
  },
  {
   "cell_type": "markdown",
   "metadata": {},
   "source": [
    "Just as with simple and multiple linear regression, we can in fact solve logistic regression using gradient descent. If we run it multiple times, we can see that it is able to achieve incredibly low error each time (ocassionally we see that more iterations would be helpful, though). \n",
    "\n",
    "Viewing logistic regression as a computational graph, introducing the terminology of an **activation function**, and using a non-linear activation function moves us one step closer to discussing actual neural networks. As we'll see in the final chapter (`4`) of this mini-book, non-linear activation functions are a large part of the reason that neural networks are so powerful. \n",
    "\n",
    "We'll now move on to coding this up using `theano`. "
   ]
  }
 ],
 "metadata": {
  "anaconda-cloud": {},
  "kernelspec": {
   "display_name": "Python 3",
   "language": "python",
   "name": "python3"
  },
  "language_info": {
   "codemirror_mode": {
    "name": "ipython",
    "version": 3
   },
   "file_extension": ".py",
   "mimetype": "text/x-python",
   "name": "python",
   "nbconvert_exporter": "python",
   "pygments_lexer": "ipython3",
   "version": "3.5.2"
  }
 },
 "nbformat": 4,
 "nbformat_minor": 0
}
